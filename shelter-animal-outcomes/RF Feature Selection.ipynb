{
 "cells": [
  {
   "cell_type": "markdown",
   "metadata": {},
   "source": [
    "## Import libraries"
   ]
  },
  {
   "cell_type": "code",
   "execution_count": 98,
   "metadata": {
    "collapsed": true
   },
   "outputs": [],
   "source": [
    "import pandas as pd\n",
    "import numpy as np\n",
    "import matplotlib.pyplot as plt\n",
    "import seaborn as sns\n",
    "import csv\n",
    "import re\n",
    "import math\n",
    "import statsmodels\n",
    "from IPython.core.interactiveshell import InteractiveShell\n",
    "from IPython.display import display, HTML\n",
    "InteractiveShell.ast_node_interactivity = \"all\"\n",
    "# from bokeh.io import show, output_file\n",
    "# from bokeh.models import ColumnDataSource\n",
    "# from bokeh.palettes import Spectral6\n",
    "# from bokeh.plotting import figure\n",
    "# from bokeh.transform import factor_cmap\n",
    "from sklearn.ensemble import RandomForestClassifier\n",
    "# https://github.com/scikit-learn-contrib/boruta_py\n",
    "from boruta import BorutaPy # need to install using terminal - './scripts/install_package_python3.sh boruta'\n",
    "%config InlineBackend.figure_format = 'retina'\n",
    "sns.set(style=\"white\")\n",
    "from sklearn.preprocessing import LabelEncoder"
   ]
  },
  {
   "cell_type": "markdown",
   "metadata": {},
   "source": [
    "## Import dataset"
   ]
  },
  {
   "cell_type": "code",
   "execution_count": 100,
   "metadata": {},
   "outputs": [],
   "source": [
    "data = pd.read_csv('data/train.csv',parse_dates=['DateTime']).fillna('')"
   ]
  },
  {
   "cell_type": "markdown",
   "metadata": {},
   "source": [
    "## Feature Engineering"
   ]
  },
  {
   "cell_type": "code",
   "execution_count": 101,
   "metadata": {},
   "outputs": [],
   "source": [
    "data = data.drop('OutcomeSubtype',axis=1)\n",
    "\n",
    "data['ColorCount'] = data['Color'].apply(lambda x: len(x.split('/')))\n",
    "data['MixOrNot'] = data['Breed'].apply(lambda x: 'Mix' in x)\n",
    "data['BreedCount'] = data['Breed'].apply(lambda x: len(x.split('/')))\n",
    "data['SexPrefix'] = data['SexuponOutcome'].apply(lambda x: x.split(' ')[0])\n",
    "data['DateTime_dayofweek'] = data['DateTime'].dt.dayofweek\n",
    "data['DateTime_dayofyear'] = data['DateTime'].dt.dayofyear\n",
    "data['DateTime_days_in_month'] = data['DateTime'].dt.days_in_month\n"
   ]
  },
  {
   "cell_type": "code",
   "execution_count": 102,
   "metadata": {},
   "outputs": [
    {
     "name": "stdout",
     "output_type": "stream",
     "text": [
      "      AnimalID        Name            DateTime      OutcomeType AnimalType  \\\n",
      "0      A671945     Hambone 2014-02-12 18:22:00  Return_to_owner        Dog   \n",
      "1      A656520       Emily 2013-10-13 12:44:00       Euthanasia        Cat   \n",
      "2      A686464      Pearce 2015-01-31 12:28:00         Adoption        Dog   \n",
      "3      A683430             2014-07-11 19:09:00         Transfer        Cat   \n",
      "4      A667013             2013-11-15 12:52:00         Transfer        Dog   \n",
      "5      A677334        Elsa 2014-04-25 13:04:00         Transfer        Dog   \n",
      "6      A699218       Jimmy 2015-03-28 13:11:00         Transfer        Cat   \n",
      "7      A701489             2015-04-30 17:02:00         Transfer        Cat   \n",
      "8      A671784        Lucy 2014-02-04 17:17:00         Adoption        Dog   \n",
      "9      A677747             2014-05-03 07:48:00         Adoption        Dog   \n",
      "10     A668402             2013-12-05 15:50:00         Transfer        Cat   \n",
      "11     A666320             2013-11-04 14:48:00         Adoption        Dog   \n",
      "12     A684601      Rocket 2016-02-03 11:27:00         Adoption        Dog   \n",
      "13     A704702     Scooter 2015-06-08 16:30:00  Return_to_owner        Dog   \n",
      "14     A688584     Preston 2015-11-25 15:00:00  Return_to_owner        Dog   \n",
      "15     A678825      Oliver 2014-07-12 12:10:00         Adoption        Cat   \n",
      "16     A678050             2014-05-03 16:15:00         Transfer        Cat   \n",
      "17     A680028             2014-06-07 12:54:00         Transfer        Dog   \n",
      "18     A679010     Chrissy 2014-05-17 11:32:00         Transfer        Cat   \n",
      "19     A684787        Kuma 2014-07-30 17:34:00  Return_to_owner        Dog   \n",
      "20     A670658      Anders 2014-01-19 15:03:00         Transfer        Dog   \n",
      "21     A708812    Munchkin 2015-09-18 15:19:00         Transfer        Cat   \n",
      "22     A705262     Jamaica 2015-08-15 14:22:00         Adoption        Dog   \n",
      "23     A665781     Quattro 2013-10-28 16:32:00         Adoption        Dog   \n",
      "24     A676333     Trigger 2014-04-09 17:44:00  Return_to_owner        Dog   \n",
      "25     A712750       Olive 2015-10-03 15:44:00         Transfer        Cat   \n",
      "26     A718832         Nia 2016-01-15 17:31:00         Adoption        Dog   \n",
      "27     A698777       Chloe 2015-03-25 18:50:00         Adoption        Dog   \n",
      "28     A715348     Cymbale 2015-11-21 13:01:00         Adoption        Cat   \n",
      "29     A708666         Jax 2015-07-30 14:30:00  Return_to_owner        Cat   \n",
      "...        ...         ...                 ...              ...        ...   \n",
      "26699  A676460       Mario 2014-04-21 14:01:00       Euthanasia        Dog   \n",
      "26700  A704999        Lion 2015-06-15 19:28:00  Return_to_owner        Dog   \n",
      "26701  A678842        Ella 2014-06-15 17:41:00         Transfer        Dog   \n",
      "26702  A713637             2015-10-11 09:42:00             Died        Cat   \n",
      "26703  A716670      Mowmow 2015-12-04 12:22:00         Transfer        Cat   \n",
      "26704  A716223       Alice 2015-11-17 17:17:00         Transfer        Cat   \n",
      "26705  A662498       Grace 2013-10-19 15:34:00         Transfer        Cat   \n",
      "26706  A689942        Zoey 2014-10-19 13:29:00         Adoption        Cat   \n",
      "26707  A682690             2014-07-01 17:06:00       Euthanasia        Cat   \n",
      "26708  A666920      Herbie 2013-11-13 17:32:00         Transfer        Dog   \n",
      "26709  A714386             2015-10-24 00:00:00         Adoption        Dog   \n",
      "26710  A692622      Bonnie 2014-11-24 17:21:00         Transfer        Dog   \n",
      "26711  A666284       Sonja 2013-10-30 18:32:00         Transfer        Dog   \n",
      "26712  A535277      Merlin 2015-04-20 16:04:00  Return_to_owner        Dog   \n",
      "26713  A671169             2014-01-20 17:37:00       Euthanasia        Cat   \n",
      "26714  A679031        Pete 2014-05-31 16:11:00         Adoption        Cat   \n",
      "26715  A708833        Luna 2015-08-05 17:03:00         Adoption        Dog   \n",
      "26716  A697158         Max 2015-05-02 21:04:00         Adoption        Dog   \n",
      "26717  A519949       Bella 2014-06-30 17:34:00  Return_to_owner        Dog   \n",
      "26718  A701044             2015-04-28 14:26:00         Adoption        Dog   \n",
      "26719  A707871             2015-07-20 09:00:00         Transfer        Cat   \n",
      "26720  A704405     Brownie 2015-07-18 14:08:00         Adoption        Cat   \n",
      "26721  A662019  Green Bean 2014-07-17 09:43:00         Adoption        Cat   \n",
      "26722  A687056             2014-08-31 09:00:00         Transfer        Cat   \n",
      "26723  A716997        Zeus 2016-01-29 18:52:00         Adoption        Dog   \n",
      "26724  A702446             2015-05-14 11:56:00         Transfer        Cat   \n",
      "26725  A718934             2016-01-20 18:59:00         Transfer        Cat   \n",
      "26726  A698128        Zeus 2015-03-09 13:33:00         Adoption        Dog   \n",
      "26727  A677478             2014-04-27 12:22:00         Transfer        Cat   \n",
      "26728  A706629             2015-07-02 09:00:00         Transfer        Cat   \n",
      "\n",
      "      SexuponOutcome AgeuponOutcome                                  Breed  \\\n",
      "0      Neutered Male         1 year                  Shetland Sheepdog Mix   \n",
      "1      Spayed Female         1 year                 Domestic Shorthair Mix   \n",
      "2      Neutered Male        2 years                           Pit Bull Mix   \n",
      "3        Intact Male        3 weeks                 Domestic Shorthair Mix   \n",
      "4      Neutered Male        2 years            Lhasa Apso/Miniature Poodle   \n",
      "5      Intact Female        1 month      Cairn Terrier/Chihuahua Shorthair   \n",
      "6        Intact Male        3 weeks                 Domestic Shorthair Mix   \n",
      "7            Unknown        3 weeks                 Domestic Shorthair Mix   \n",
      "8      Spayed Female       5 months          American Pit Bull Terrier Mix   \n",
      "9      Spayed Female         1 year                          Cairn Terrier   \n",
      "10           Unknown        2 years                 Domestic Shorthair Mix   \n",
      "11     Spayed Female        2 years                Miniature Schnauzer Mix   \n",
      "12     Neutered Male        4 years                           Pit Bull Mix   \n",
      "13     Neutered Male        2 years                  Yorkshire Terrier Mix   \n",
      "14     Neutered Male         1 year                     Great Pyrenees Mix   \n",
      "15     Neutered Male       3 months                 Domestic Shorthair Mix   \n",
      "16       Intact Male        3 weeks                 Domestic Shorthair Mix   \n",
      "17     Intact Female        2 weeks                           Pit Bull Mix   \n",
      "18     Intact Female        2 years                             Angora Mix   \n",
      "19     Neutered Male         1 year                Flat Coat Retriever Mix   \n",
      "20       Intact Male       2 months                  Queensland Heeler Mix   \n",
      "21     Spayed Female         1 year                 Domestic Shorthair Mix   \n",
      "22     Spayed Female        2 years                      Plott Hound/Boxer   \n",
      "23     Neutered Male      10 months                    German Shepherd Mix   \n",
      "24     Neutered Male       2 months                    German Shepherd Mix   \n",
      "25     Intact Female        1 month                 Domestic Shorthair Mix   \n",
      "26     Spayed Female       6 months     American Staffordshire Terrier Mix   \n",
      "27     Spayed Female        5 years                Chihuahua Shorthair Mix   \n",
      "28     Spayed Female       2 months                 Domestic Shorthair Mix   \n",
      "29     Neutered Male        7 years                       Russian Blue Mix   \n",
      "...              ...            ...                                    ...   \n",
      "26699  Neutered Male        2 years          American Pit Bull Terrier Mix   \n",
      "26700    Intact Male      10 months         Great Pyrenees/Anatol Shepherd   \n",
      "26701  Intact Female      11 months               Jack Russell Terrier Mix   \n",
      "26702  Spayed Female        2 years                            Siamese Mix   \n",
      "26703  Neutered Male        6 years                  Domestic Longhair Mix   \n",
      "26704  Intact Female        4 weeks                 Domestic Shorthair Mix   \n",
      "26705  Intact Female       2 months                 Domestic Shorthair Mix   \n",
      "26706  Spayed Female       2 months                 Domestic Shorthair Mix   \n",
      "26707        Unknown         1 year                 Domestic Shorthair Mix   \n",
      "26708  Neutered Male        2 years                Chihuahua Shorthair Mix   \n",
      "26709  Spayed Female        1 month                Chihuahua Shorthair Mix   \n",
      "26710  Intact Female        1 month  Chihuahua Shorthair/Yorkshire Terrier   \n",
      "26711  Intact Female         1 year               Cocker Spaniel/Dachshund   \n",
      "26712  Neutered Male       12 years                            Rat Terrier   \n",
      "26713  Intact Female       18 years                  Domestic Longhair Mix   \n",
      "26714  Spayed Female       2 months                 Domestic Shorthair Mix   \n",
      "26715  Spayed Female       2 months                            Pointer Mix   \n",
      "26716  Neutered Male       2 months                       Newfoundland Mix   \n",
      "26717  Spayed Female        9 years                        Bullmastiff Mix   \n",
      "26718  Neutered Male       2 months         Siberian Husky/German Shepherd   \n",
      "26719        Unknown        2 years                 Domestic Shorthair Mix   \n",
      "26720  Spayed Female       2 months                 Domestic Shorthair Mix   \n",
      "26721  Spayed Female        5 years                 Domestic Shorthair Mix   \n",
      "26722    Intact Male       5 months                 Domestic Shorthair Mix   \n",
      "26723  Neutered Male        6 years                      Staffordshire Mix   \n",
      "26724    Intact Male        1 month                 Domestic Shorthair Mix   \n",
      "26725  Spayed Female       3 months                 Domestic Shorthair Mix   \n",
      "26726  Neutered Male        4 years                Old English Bulldog Mix   \n",
      "26727    Intact Male        4 weeks                 Domestic Shorthair Mix   \n",
      "26728    Intact Male         1 year                 Domestic Shorthair Mix   \n",
      "\n",
      "                     Color  ColorCount  MixOrNot  BreedCount SexPrefix  \\\n",
      "0              Brown/White           2      True           1  Neutered   \n",
      "1              Cream Tabby           1      True           1    Spayed   \n",
      "2               Blue/White           2      True           1  Neutered   \n",
      "3               Blue Cream           1      True           1    Intact   \n",
      "4                      Tan           1     False           2  Neutered   \n",
      "5                Black/Tan           2     False           2    Intact   \n",
      "6               Blue Tabby           1      True           1    Intact   \n",
      "7              Brown Tabby           1      True           1   Unknown   \n",
      "8                Red/White           2      True           1    Spayed   \n",
      "9                    White           1     False           1    Spayed   \n",
      "10                   Black           1      True           1   Unknown   \n",
      "11                  Silver           1      True           1    Spayed   \n",
      "12                   Brown           1      True           1  Neutered   \n",
      "13               Black/Red           2      True           1  Neutered   \n",
      "14             White/Cream           2      True           1  Neutered   \n",
      "15      Orange Tabby/White           2      True           1  Neutered   \n",
      "16             Brown Tabby           1      True           1    Intact   \n",
      "17             Brown/White           2      True           1    Intact   \n",
      "18                   White           1      True           1    Intact   \n",
      "19                   Black           1      True           1  Neutered   \n",
      "20             Black/White           2      True           1    Intact   \n",
      "21                   White           1      True           1    Spayed   \n",
      "22     Brown Brindle/White           2     False           2    Spayed   \n",
      "23             Brown/White           2      True           1  Neutered   \n",
      "24             Black/Brown           2      True           1  Neutered   \n",
      "25            Orange Tabby           1      True           1    Intact   \n",
      "26         Chocolate/White           2      True           1    Spayed   \n",
      "27               White/Tan           2      True           1    Spayed   \n",
      "28       Cream Tabby/White           2      True           1    Spayed   \n",
      "29                    Blue           1      True           1  Neutered   \n",
      "...                    ...         ...       ...         ...       ...   \n",
      "26699          White/Black           2      True           1  Neutered   \n",
      "26700            Tan/Cream           2     False           2    Intact   \n",
      "26701          White/Black           2      True           1    Intact   \n",
      "26702           Lynx Point           1      True           1    Spayed   \n",
      "26703           Seal Point           1      True           1  Neutered   \n",
      "26704          White/Black           2      True           1    Intact   \n",
      "26705               Tortie           1      True           1    Intact   \n",
      "26706                Black           1      True           1    Spayed   \n",
      "26707          Brown Tabby           1      True           1   Unknown   \n",
      "26708          White/Brown           2      True           1  Neutered   \n",
      "26709           Sable/Buff           2      True           1    Spayed   \n",
      "26710          Brown/Black           2     False           2    Intact   \n",
      "26711                 Buff           1     False           2    Intact   \n",
      "26712        Chocolate/Tan           2     False           1  Neutered   \n",
      "26713               Tortie           1      True           1    Intact   \n",
      "26714         Orange Tabby           1      True           1    Spayed   \n",
      "26715          Black/White           2      True           1    Spayed   \n",
      "26716          White/Black           2      True           1  Neutered   \n",
      "26717                Black           1      True           1    Spayed   \n",
      "26718       Black/Tricolor           2     False           2  Neutered   \n",
      "26719    Brown Tabby/White           2      True           1   Unknown   \n",
      "26720          Brown Tabby           1      True           1    Spayed   \n",
      "26721                Black           1      True           1    Spayed   \n",
      "26722         Orange Tabby           1      True           1    Intact   \n",
      "26723           Blue/White           2      True           1  Neutered   \n",
      "26724    Brown Tabby/White           2      True           1    Intact   \n",
      "26725          Brown Tabby           1      True           1    Spayed   \n",
      "26726            White/Tan           2      True           1  Neutered   \n",
      "26727                Black           1      True           1    Intact   \n",
      "26728    Brown Tabby/White           2      True           1    Intact   \n",
      "\n",
      "       DateTime_dayofweek  DateTime_dayofyear  DateTime_days_in_month  \n",
      "0                       2                  43                      28  \n",
      "1                       6                 286                      31  \n",
      "2                       5                  31                      31  \n",
      "3                       4                 192                      31  \n",
      "4                       4                 319                      30  \n",
      "5                       4                 115                      30  \n",
      "6                       5                  87                      31  \n",
      "7                       3                 120                      30  \n",
      "8                       1                  35                      28  \n",
      "9                       5                 123                      31  \n",
      "10                      3                 339                      31  \n",
      "11                      0                 308                      30  \n",
      "12                      2                  34                      29  \n",
      "13                      0                 159                      30  \n",
      "14                      2                 329                      30  \n",
      "15                      5                 193                      31  \n",
      "16                      5                 123                      31  \n",
      "17                      5                 158                      30  \n",
      "18                      5                 137                      31  \n",
      "19                      2                 211                      31  \n",
      "20                      6                  19                      31  \n",
      "21                      4                 261                      30  \n",
      "22                      5                 227                      31  \n",
      "23                      0                 301                      31  \n",
      "24                      2                  99                      30  \n",
      "25                      5                 276                      31  \n",
      "26                      4                  15                      31  \n",
      "27                      2                  84                      31  \n",
      "28                      5                 325                      30  \n",
      "29                      3                 211                      31  \n",
      "...                   ...                 ...                     ...  \n",
      "26699                   0                 111                      30  \n",
      "26700                   0                 166                      30  \n",
      "26701                   6                 166                      30  \n",
      "26702                   6                 284                      31  \n",
      "26703                   4                 338                      31  \n",
      "26704                   1                 321                      30  \n",
      "26705                   5                 292                      31  \n",
      "26706                   6                 292                      31  \n",
      "26707                   1                 182                      31  \n",
      "26708                   2                 317                      30  \n",
      "26709                   5                 297                      31  \n",
      "26710                   0                 328                      30  \n",
      "26711                   2                 303                      31  \n",
      "26712                   0                 110                      30  \n",
      "26713                   0                  20                      31  \n",
      "26714                   5                 151                      31  \n",
      "26715                   2                 217                      31  \n",
      "26716                   5                 122                      31  \n",
      "26717                   0                 181                      30  \n",
      "26718                   1                 118                      30  \n",
      "26719                   0                 201                      31  \n",
      "26720                   5                 199                      31  \n",
      "26721                   3                 198                      31  \n",
      "26722                   6                 243                      31  \n",
      "26723                   4                  29                      31  \n",
      "26724                   3                 134                      31  \n",
      "26725                   2                  20                      31  \n",
      "26726                   0                  68                      31  \n",
      "26727                   6                 117                      30  \n",
      "26728                   3                 183                      31  \n",
      "\n",
      "[26729 rows x 16 columns]\n"
     ]
    }
   ],
   "source": [
    "# data = data.drop(['AnimalID','Name','DateTime','AgeuponOutcome'], axis=1)\n",
    "print data"
   ]
  },
  {
   "cell_type": "code",
   "execution_count": 95,
   "metadata": {},
   "outputs": [
    {
     "name": "stdout",
     "output_type": "stream",
     "text": [
      "Independent variables:\n",
      "[['Dog' 'Neutered Male' 'Shetland Sheepdog Mix' ..., 2 43 28]\n",
      " ['Cat' 'Spayed Female' 'Domestic Shorthair Mix' ..., 6 286 31]\n",
      " ['Dog' 'Neutered Male' 'Pit Bull Mix' ..., 5 31 31]\n",
      " ..., \n",
      " ['Dog' 'Neutered Male' 'Old English Bulldog Mix' ..., 0 68 31]\n",
      " ['Cat' 'Intact Male' 'Domestic Shorthair Mix' ..., 6 117 30]\n",
      " ['Cat' 'Intact Male' 'Domestic Shorthair Mix' ..., 3 183 31]]\n",
      "Dependent variable:\n",
      "['Return_to_owner' 'Euthanasia' 'Adoption' ..., 'Adoption' 'Transfer'\n",
      " 'Transfer']\n"
     ]
    }
   ],
   "source": [
    "x = data.iloc[:,1:].values\n",
    "print \"Independent variables:\\n\", x \n",
    "y = data.iloc[:,0].values # Taking all rows and last column.\n",
    "print \"Dependent variable:\\n\", y"
   ]
  },
  {
   "cell_type": "code",
   "execution_count": 96,
   "metadata": {},
   "outputs": [
    {
     "data": {
      "text/plain": [
       "OutcomeType               object\n",
       "AnimalType                object\n",
       "SexuponOutcome            object\n",
       "Breed                     object\n",
       "Color                     object\n",
       "ColorCount                 int64\n",
       "MixOrNot                    bool\n",
       "BreedCount                 int64\n",
       "SexPrefix                 object\n",
       "DateTime_dayofweek         int64\n",
       "DateTime_dayofyear         int64\n",
       "DateTime_days_in_month     int64\n",
       "dtype: object"
      ]
     },
     "execution_count": 96,
     "metadata": {},
     "output_type": "execute_result"
    }
   ],
   "source": [
    "#Checking datatypes\n",
    "data.dtypes"
   ]
  },
  {
   "cell_type": "markdown",
   "metadata": {},
   "source": [
    "## Imputing"
   ]
  },
  {
   "cell_type": "code",
   "execution_count": 97,
   "metadata": {},
   "outputs": [
    {
     "ename": "ValueError",
     "evalue": "could not convert string to float: Domestic Shorthair Mix",
     "output_type": "error",
     "traceback": [
      "\u001b[0;31m---------------------------------------------------------------------------\u001b[0m",
      "\u001b[0;31mValueError\u001b[0m                                Traceback (most recent call last)",
      "\u001b[0;32m<ipython-input-97-5f54c2141214>\u001b[0m in \u001b[0;36m<module>\u001b[0;34m()\u001b[0m\n\u001b[1;32m      1\u001b[0m \u001b[0mimputer\u001b[0m \u001b[0;34m=\u001b[0m \u001b[0mImputer\u001b[0m\u001b[0;34m(\u001b[0m\u001b[0mmissing_values\u001b[0m \u001b[0;34m=\u001b[0m \u001b[0;34m'NaN'\u001b[0m\u001b[0;34m,\u001b[0m \u001b[0mstrategy\u001b[0m \u001b[0;34m=\u001b[0m \u001b[0;34m\"most_frequent\"\u001b[0m\u001b[0;34m,\u001b[0m \u001b[0maxis\u001b[0m \u001b[0;34m=\u001b[0m \u001b[0;36m0\u001b[0m\u001b[0;34m)\u001b[0m \u001b[0;31m#Indicate the settings for Inputer function. strategy = mean / median / most_frequent.\u001b[0m\u001b[0;34m\u001b[0m\u001b[0m\n\u001b[0;32m----> 2\u001b[0;31m \u001b[0mimputer\u001b[0m \u001b[0;34m=\u001b[0m \u001b[0mimputer\u001b[0m\u001b[0;34m.\u001b[0m\u001b[0mfit\u001b[0m\u001b[0;34m(\u001b[0m\u001b[0mx\u001b[0m\u001b[0;34m[\u001b[0m\u001b[0;34m:\u001b[0m\u001b[0;34m,\u001b[0m\u001b[0;36m1\u001b[0m\u001b[0;34m:\u001b[0m\u001b[0;36m3\u001b[0m\u001b[0;34m]\u001b[0m\u001b[0;34m)\u001b[0m \u001b[0;31m#Fit imputer into matrix x, on columns where there is missing data.Taking index 1 and 2.\u001b[0m\u001b[0;34m\u001b[0m\u001b[0m\n\u001b[0m\u001b[1;32m      3\u001b[0m \u001b[0mx\u001b[0m\u001b[0;34m[\u001b[0m\u001b[0;34m:\u001b[0m\u001b[0;34m,\u001b[0m\u001b[0;36m1\u001b[0m\u001b[0;34m:\u001b[0m\u001b[0;36m3\u001b[0m\u001b[0;34m]\u001b[0m \u001b[0;34m=\u001b[0m \u001b[0mimputer\u001b[0m\u001b[0;34m.\u001b[0m\u001b[0mtransform\u001b[0m\u001b[0;34m(\u001b[0m\u001b[0mx\u001b[0m\u001b[0;34m[\u001b[0m\u001b[0;34m:\u001b[0m\u001b[0;34m,\u001b[0m\u001b[0;36m1\u001b[0m\u001b[0;34m:\u001b[0m\u001b[0;36m3\u001b[0m\u001b[0;34m]\u001b[0m\u001b[0;34m)\u001b[0m \u001b[0;31m# Replace missing data by mean of the columns\u001b[0m\u001b[0;34m\u001b[0m\u001b[0m\n\u001b[1;32m      4\u001b[0m \u001b[0;32mprint\u001b[0m \u001b[0;34m\"Independent variables after replacing missing data:\\n\"\u001b[0m\u001b[0;34m,\u001b[0m \u001b[0mx\u001b[0m\u001b[0;34m\u001b[0m\u001b[0m\n",
      "\u001b[0;32m/Users/Walter/anaconda2/lib/python2.7/site-packages/sklearn/preprocessing/imputation.pyc\u001b[0m in \u001b[0;36mfit\u001b[0;34m(self, X, y)\u001b[0m\n\u001b[1;32m    153\u001b[0m         \u001b[0;32mif\u001b[0m \u001b[0mself\u001b[0m\u001b[0;34m.\u001b[0m\u001b[0maxis\u001b[0m \u001b[0;34m==\u001b[0m \u001b[0;36m0\u001b[0m\u001b[0;34m:\u001b[0m\u001b[0;34m\u001b[0m\u001b[0m\n\u001b[1;32m    154\u001b[0m             X = check_array(X, accept_sparse='csc', dtype=np.float64,\n\u001b[0;32m--> 155\u001b[0;31m                             force_all_finite=False)\n\u001b[0m\u001b[1;32m    156\u001b[0m \u001b[0;34m\u001b[0m\u001b[0m\n\u001b[1;32m    157\u001b[0m             \u001b[0;32mif\u001b[0m \u001b[0msparse\u001b[0m\u001b[0;34m.\u001b[0m\u001b[0missparse\u001b[0m\u001b[0;34m(\u001b[0m\u001b[0mX\u001b[0m\u001b[0;34m)\u001b[0m\u001b[0;34m:\u001b[0m\u001b[0;34m\u001b[0m\u001b[0m\n",
      "\u001b[0;32m/Users/Walter/anaconda2/lib/python2.7/site-packages/sklearn/utils/validation.pyc\u001b[0m in \u001b[0;36mcheck_array\u001b[0;34m(array, accept_sparse, dtype, order, copy, force_all_finite, ensure_2d, allow_nd, ensure_min_samples, ensure_min_features, warn_on_dtype, estimator)\u001b[0m\n\u001b[1;32m    400\u001b[0m                                       force_all_finite)\n\u001b[1;32m    401\u001b[0m     \u001b[0;32melse\u001b[0m\u001b[0;34m:\u001b[0m\u001b[0;34m\u001b[0m\u001b[0m\n\u001b[0;32m--> 402\u001b[0;31m         \u001b[0marray\u001b[0m \u001b[0;34m=\u001b[0m \u001b[0mnp\u001b[0m\u001b[0;34m.\u001b[0m\u001b[0marray\u001b[0m\u001b[0;34m(\u001b[0m\u001b[0marray\u001b[0m\u001b[0;34m,\u001b[0m \u001b[0mdtype\u001b[0m\u001b[0;34m=\u001b[0m\u001b[0mdtype\u001b[0m\u001b[0;34m,\u001b[0m \u001b[0morder\u001b[0m\u001b[0;34m=\u001b[0m\u001b[0morder\u001b[0m\u001b[0;34m,\u001b[0m \u001b[0mcopy\u001b[0m\u001b[0;34m=\u001b[0m\u001b[0mcopy\u001b[0m\u001b[0;34m)\u001b[0m\u001b[0;34m\u001b[0m\u001b[0m\n\u001b[0m\u001b[1;32m    403\u001b[0m \u001b[0;34m\u001b[0m\u001b[0m\n\u001b[1;32m    404\u001b[0m         \u001b[0;32mif\u001b[0m \u001b[0mensure_2d\u001b[0m\u001b[0;34m:\u001b[0m\u001b[0;34m\u001b[0m\u001b[0m\n",
      "\u001b[0;31mValueError\u001b[0m: could not convert string to float: Domestic Shorthair Mix"
     ]
    }
   ],
   "source": [
    "imputer = Imputer(missing_values = 'NaN', strategy = \"most_frequent\", axis = 0) #Indicate the settings for Inputer function. strategy = mean / median / most_frequent.\n",
    "imputer = imputer.fit(x[:,1:3]) #Fit imputer into matrix x, on columns where there is missing data.Taking index 1 and 2. \n",
    "x[:,1:3] = imputer.transform(x[:,1:3]) # Replace missing data by mean of the columns\n",
    "print \"Independent variables after replacing missing data:\\n\", x "
   ]
  },
  {
   "cell_type": "markdown",
   "metadata": {},
   "source": [
    "## Scaling"
   ]
  },
  {
   "cell_type": "code",
   "execution_count": 69,
   "metadata": {
    "scrolled": false
   },
   "outputs": [
    {
     "ename": "TypeError",
     "evalue": "unhashable type",
     "output_type": "error",
     "traceback": [
      "\u001b[0;31m---------------------------------------------------------------------------\u001b[0m",
      "\u001b[0;31mTypeError\u001b[0m                                 Traceback (most recent call last)",
      "\u001b[0;32m<ipython-input-69-a7f62335b460>\u001b[0m in \u001b[0;36m<module>\u001b[0;34m()\u001b[0m\n\u001b[1;32m      1\u001b[0m \u001b[0mle\u001b[0m \u001b[0;34m=\u001b[0m \u001b[0mLabelEncoder\u001b[0m\u001b[0;34m(\u001b[0m\u001b[0;34m)\u001b[0m\u001b[0;34m\u001b[0m\u001b[0m\n\u001b[0;32m----> 2\u001b[0;31m \u001b[0mdata\u001b[0m \u001b[0;34m=\u001b[0m \u001b[0mle\u001b[0m\u001b[0;34m.\u001b[0m\u001b[0mfit_transform\u001b[0m\u001b[0;34m(\u001b[0m\u001b[0mdata\u001b[0m\u001b[0;34m[\u001b[0m\u001b[0;34m:\u001b[0m\u001b[0;34m,\u001b[0m\u001b[0;36m3\u001b[0m\u001b[0;34m]\u001b[0m\u001b[0;34m)\u001b[0m\u001b[0;34m\u001b[0m\u001b[0m\n\u001b[0m",
      "\u001b[0;32m/Users/Walter/anaconda2/lib/python2.7/site-packages/pandas/core/frame.pyc\u001b[0m in \u001b[0;36m__getitem__\u001b[0;34m(self, key)\u001b[0m\n\u001b[1;32m   1962\u001b[0m             \u001b[0;32mreturn\u001b[0m \u001b[0mself\u001b[0m\u001b[0;34m.\u001b[0m\u001b[0m_getitem_multilevel\u001b[0m\u001b[0;34m(\u001b[0m\u001b[0mkey\u001b[0m\u001b[0;34m)\u001b[0m\u001b[0;34m\u001b[0m\u001b[0m\n\u001b[1;32m   1963\u001b[0m         \u001b[0;32melse\u001b[0m\u001b[0;34m:\u001b[0m\u001b[0;34m\u001b[0m\u001b[0m\n\u001b[0;32m-> 1964\u001b[0;31m             \u001b[0;32mreturn\u001b[0m \u001b[0mself\u001b[0m\u001b[0;34m.\u001b[0m\u001b[0m_getitem_column\u001b[0m\u001b[0;34m(\u001b[0m\u001b[0mkey\u001b[0m\u001b[0;34m)\u001b[0m\u001b[0;34m\u001b[0m\u001b[0m\n\u001b[0m\u001b[1;32m   1965\u001b[0m \u001b[0;34m\u001b[0m\u001b[0m\n\u001b[1;32m   1966\u001b[0m     \u001b[0;32mdef\u001b[0m \u001b[0m_getitem_column\u001b[0m\u001b[0;34m(\u001b[0m\u001b[0mself\u001b[0m\u001b[0;34m,\u001b[0m \u001b[0mkey\u001b[0m\u001b[0;34m)\u001b[0m\u001b[0;34m:\u001b[0m\u001b[0;34m\u001b[0m\u001b[0m\n",
      "\u001b[0;32m/Users/Walter/anaconda2/lib/python2.7/site-packages/pandas/core/frame.pyc\u001b[0m in \u001b[0;36m_getitem_column\u001b[0;34m(self, key)\u001b[0m\n\u001b[1;32m   1969\u001b[0m         \u001b[0;31m# get column\u001b[0m\u001b[0;34m\u001b[0m\u001b[0;34m\u001b[0m\u001b[0m\n\u001b[1;32m   1970\u001b[0m         \u001b[0;32mif\u001b[0m \u001b[0mself\u001b[0m\u001b[0;34m.\u001b[0m\u001b[0mcolumns\u001b[0m\u001b[0;34m.\u001b[0m\u001b[0mis_unique\u001b[0m\u001b[0;34m:\u001b[0m\u001b[0;34m\u001b[0m\u001b[0m\n\u001b[0;32m-> 1971\u001b[0;31m             \u001b[0;32mreturn\u001b[0m \u001b[0mself\u001b[0m\u001b[0;34m.\u001b[0m\u001b[0m_get_item_cache\u001b[0m\u001b[0;34m(\u001b[0m\u001b[0mkey\u001b[0m\u001b[0;34m)\u001b[0m\u001b[0;34m\u001b[0m\u001b[0m\n\u001b[0m\u001b[1;32m   1972\u001b[0m \u001b[0;34m\u001b[0m\u001b[0m\n\u001b[1;32m   1973\u001b[0m         \u001b[0;31m# duplicate columns & possible reduce dimensionality\u001b[0m\u001b[0;34m\u001b[0m\u001b[0;34m\u001b[0m\u001b[0m\n",
      "\u001b[0;32m/Users/Walter/anaconda2/lib/python2.7/site-packages/pandas/core/generic.pyc\u001b[0m in \u001b[0;36m_get_item_cache\u001b[0;34m(self, item)\u001b[0m\n\u001b[1;32m   1641\u001b[0m         \u001b[0;34m\"\"\"Return the cached item, item represents a label indexer.\"\"\"\u001b[0m\u001b[0;34m\u001b[0m\u001b[0m\n\u001b[1;32m   1642\u001b[0m         \u001b[0mcache\u001b[0m \u001b[0;34m=\u001b[0m \u001b[0mself\u001b[0m\u001b[0;34m.\u001b[0m\u001b[0m_item_cache\u001b[0m\u001b[0;34m\u001b[0m\u001b[0m\n\u001b[0;32m-> 1643\u001b[0;31m         \u001b[0mres\u001b[0m \u001b[0;34m=\u001b[0m \u001b[0mcache\u001b[0m\u001b[0;34m.\u001b[0m\u001b[0mget\u001b[0m\u001b[0;34m(\u001b[0m\u001b[0mitem\u001b[0m\u001b[0;34m)\u001b[0m\u001b[0;34m\u001b[0m\u001b[0m\n\u001b[0m\u001b[1;32m   1644\u001b[0m         \u001b[0;32mif\u001b[0m \u001b[0mres\u001b[0m \u001b[0;32mis\u001b[0m \u001b[0mNone\u001b[0m\u001b[0;34m:\u001b[0m\u001b[0;34m\u001b[0m\u001b[0m\n\u001b[1;32m   1645\u001b[0m             \u001b[0mvalues\u001b[0m \u001b[0;34m=\u001b[0m \u001b[0mself\u001b[0m\u001b[0;34m.\u001b[0m\u001b[0m_data\u001b[0m\u001b[0;34m.\u001b[0m\u001b[0mget\u001b[0m\u001b[0;34m(\u001b[0m\u001b[0mitem\u001b[0m\u001b[0;34m)\u001b[0m\u001b[0;34m\u001b[0m\u001b[0m\n",
      "\u001b[0;31mTypeError\u001b[0m: unhashable type"
     ]
    }
   ],
   "source": [
    "le = LabelEncoder() \n",
    "data = le.fit_transform(data[:,3])"
   ]
  },
  {
   "cell_type": "markdown",
   "metadata": {},
   "source": [
    "## Feature selection"
   ]
  },
  {
   "cell_type": "code",
   "execution_count": null,
   "metadata": {
    "collapsed": true
   },
   "outputs": [],
   "source": [
    "data.drop(['AnimalID', 'OutcomeSubtype'], axis=1, inplace=True)\n",
    "y = data[['OutcomeType']]\n",
    "X = data.drop(['OutcomeType'], axis=1)\n",
    "X, y = X.values, y.values.ravel()"
   ]
  },
  {
   "cell_type": "code",
   "execution_count": null,
   "metadata": {
    "collapsed": true
   },
   "outputs": [],
   "source": [
    "# define random forest classifier, with utilising all cores and\n",
    "# sampling in proportion to y labels\n",
    "rf = RandomForestClassifier(n_jobs=-1, class_weight='balanced', max_depth=5)\n",
    "\n",
    "# define Boruta feature selection method\n",
    "feat_selector = BorutaPy(rf,\n",
    "                         n_estimators='auto',\n",
    "                         verbose=2,\n",
    "                         random_state=1,\n",
    "                         max_iter=100)\n",
    "\n",
    "# find all relevant features - 5 features should be selected\n",
    "feat_selector.fit(X, y)\n",
    "\n",
    "# check selected features - first 5 features are selected\n",
    "feat_selector.support_\n",
    "\n",
    "# check ranking of features\n",
    "feat_selector.ranking_\n",
    "\n",
    "# call transform() on X to filter it down to selected features\n",
    "X_filtered = feat_selector.transform(X)\n",
    "# print(feat_selector.support_)\n",
    "# print(feat_selector.ranking_)\n",
    "# print(X_filtered)"
   ]
  },
  {
   "cell_type": "code",
   "execution_count": null,
   "metadata": {
    "collapsed": true
   },
   "outputs": [],
   "source": [
    "feature_importance_dict = {'feature_name': data.drop(['OutcomeType'], axis=1).columns.values,\n",
    "                           'feature_ranking': feat_selector.ranking_,\n",
    "                           'feature_selected': feat_selector.support_}\n",
    "\n",
    "feature_importance_df = pd.DataFrame(data=feature_importance_dict)\n",
    "feature_importance_df.to_csv('output/feature_importance_df.csv', index=False)\n",
    "display(feature_importance_df)"
   ]
  },
  {
   "cell_type": "code",
   "execution_count": null,
   "metadata": {
    "collapsed": true
   },
   "outputs": [],
   "source": []
  },
  {
   "cell_type": "code",
   "execution_count": 71,
   "metadata": {},
   "outputs": [],
   "source": [
    "data = pd.read_csv('/Users/Walter/Desktop/Programming/UDM - Machine Learning/Part 1 - Data Preprocessing/Data.csv')"
   ]
  },
  {
   "cell_type": "code",
   "execution_count": 72,
   "metadata": {},
   "outputs": [
    {
     "name": "stdout",
     "output_type": "stream",
     "text": [
      "   Country   Age   Salary Purchased\n",
      "0   France  44.0  72000.0        No\n",
      "1    Spain  27.0  48000.0       Yes\n",
      "2  Germany  30.0  54000.0        No\n",
      "3    Spain  38.0  61000.0        No\n",
      "4  Germany  40.0      NaN       Yes\n"
     ]
    }
   ],
   "source": [
    "print data.head()"
   ]
  },
  {
   "cell_type": "code",
   "execution_count": 74,
   "metadata": {},
   "outputs": [
    {
     "name": "stdout",
     "output_type": "stream",
     "text": [
      "[['France' 44.0 72000.0]\n",
      " ['Spain' 27.0 48000.0]\n",
      " ['Germany' 30.0 54000.0]\n",
      " ['Spain' 38.0 61000.0]\n",
      " ['Germany' 40.0 nan]\n",
      " ['France' 35.0 58000.0]\n",
      " ['Spain' nan 52000.0]\n",
      " ['France' 48.0 79000.0]\n",
      " ['Germany' 50.0 83000.0]\n",
      " ['France' 37.0 67000.0]]\n"
     ]
    }
   ],
   "source": [
    "x = data.iloc[:,:-1].values\n",
    "print x"
   ]
  },
  {
   "cell_type": "code",
   "execution_count": 77,
   "metadata": {},
   "outputs": [],
   "source": [
    "from sklearn.preprocessing import Imputer\n",
    "imputer = Imputer(missing_values = 'NaN', strategy = \"mean\", axis = 0) #Indicate the settings for Inputer function. strategy = mean / median / most_frequent.\n",
    "imputer = imputer.fit(x[:,1:3]) #Fit imputer into matrix x, on columns where there is missing data.Taking index 1 and 2. \n",
    "x[:,1:3] = imputer.transform(x[:,1:3])"
   ]
  },
  {
   "cell_type": "code",
   "execution_count": 79,
   "metadata": {},
   "outputs": [],
   "source": [
    "le = LabelEncoder()\n",
    "x[:,0] = le.fit_transform(x[:,0]) #Fit label encoder into first column"
   ]
  },
  {
   "cell_type": "code",
   "execution_count": null,
   "metadata": {
    "collapsed": true
   },
   "outputs": [],
   "source": []
  }
 ],
 "metadata": {
  "kernelspec": {
   "display_name": "Python 2",
   "language": "python",
   "name": "python2"
  },
  "language_info": {
   "codemirror_mode": {
    "name": "ipython",
    "version": 2
   },
   "file_extension": ".py",
   "mimetype": "text/x-python",
   "name": "python",
   "nbconvert_exporter": "python",
   "pygments_lexer": "ipython2",
   "version": "2.7.13"
  }
 },
 "nbformat": 4,
 "nbformat_minor": 2
}
